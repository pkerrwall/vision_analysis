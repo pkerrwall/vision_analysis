{
 "cells": [
  {
   "cell_type": "markdown",
   "metadata": {},
   "source": [
    "# Video Object Tracking Example\n",
    "\n",
    "This notebook demonstrates single-object tracking in a video using OpenCV's tracking API. We will select an object in the first frame and then use the **CSRT tracker** to follow it through subsequent frames. To run this, you'll need a video file or webcam feed. (See https://www.geeksforgeeks.org/getting-started-with-object-tracking-using-opencv/ for more details on trackers.)\n"
   ]
  },
  {
   "cell_type": "code",
   "execution_count": 1,
   "metadata": {},
   "outputs": [
    {
     "name": "stdout",
     "output_type": "stream",
     "text": [
      "Collecting opencv-contrib-python\n",
      "  Downloading opencv_contrib_python-4.12.0.88-cp37-abi3-manylinux2014_x86_64.manylinux_2_17_x86_64.whl.metadata (19 kB)\n",
      "Requirement already satisfied: numpy<2.3.0,>=2 in /home/wallke/pyenv/vision/lib/python3.12/site-packages (from opencv-contrib-python) (2.2.6)\n",
      "Downloading opencv_contrib_python-4.12.0.88-cp37-abi3-manylinux2014_x86_64.manylinux_2_17_x86_64.whl (73.2 MB)\n",
      "\u001b[2K   \u001b[90m━━━━━━━━━━━━━━━━━━━━━━━━━━━━━━━━━━━━━━━━\u001b[0m \u001b[32m73.2/73.2 MB\u001b[0m \u001b[31m4.7 MB/s\u001b[0m  \u001b[33m0:00:15\u001b[0mm0:00:01\u001b[0m00:01\u001b[0m\n",
      "\u001b[?25hInstalling collected packages: opencv-contrib-python\n",
      "Successfully installed opencv-contrib-python-4.12.0.88\n"
     ]
    }
   ],
   "source": [
    "# Install OpenCV if not already installed\n",
    "!pip install opencv-contrib-python"
   ]
  },
  {
   "cell_type": "code",
   "execution_count": 2,
   "metadata": {},
   "outputs": [],
   "source": [
    "import cv2\n",
    "import numpy as np"
   ]
  },
  {
   "cell_type": "markdown",
   "metadata": {},
   "source": [
    "## Initialize Video and Tracker\n",
    "\n",
    "We open the video source (a file or camera) and read the first frame. Then we select a Region of Interest (ROI) for the object we want to track. Use the mouse to draw a box around the object in the first frame."
   ]
  },
  {
   "cell_type": "code",
   "execution_count": 3,
   "metadata": {},
   "outputs": [
    {
     "name": "stdout",
     "output_type": "stream",
     "text": [
      "Using webcam for tracking...\n",
      "Cannot read video source\n"
     ]
    },
    {
     "name": "stderr",
     "output_type": "stream",
     "text": [
      "[ WARN:0@19.723] global cap_v4l.cpp:914 open VIDEOIO(V4L2:/dev/video0): can't open camera by index\n",
      "[ERROR:0@19.724] global obsensor_uvc_stream_channel.cpp:163 getStreamChannelGroup Camera index out of range\n"
     ]
    }
   ],
   "source": [
    "# Open video file or webcam\n",
    "video_path = 'path/to/your/video.mp4'\n",
    "cap = cv2.VideoCapture(video_path)\n",
    "if not cap.isOpened():\n",
    "    cap = cv2.VideoCapture(0)  # try to fall back to webcam\n",
    "    print(\"Using webcam for tracking...\")\n",
    "\n",
    "# Read first frame\n",
    "ret, frame = cap.read()\n",
    "if not ret:\n",
    "    print(\"Cannot read video source\")\n",
    "    cap.release()\n",
    "else:\n",
    "    # Let user select ROI on the first frame\n",
    "    roi = cv2.selectROI(\"Select Object\", frame, showCrosshair=True)\n",
    "    cv2.destroyWindow(\"Select Object\")\n",
    "    x, y, w, h = roi\n",
    "    if w == 0 or h == 0:\n",
    "        print(\"ROI selection cancelled. Exiting.\")\n",
    "        cap.release()\n",
    "    else:\n",
    "        # Initialize CSRT tracker with the selected ROI\n",
    "        tracker = cv2.legacy.TrackerCSRT_create()\n",
    "        tracker.init(frame, roi)\n",
    "        print(\"Tracker initialized on ROI:\", roi)"
   ]
  },
  {
   "cell_type": "markdown",
   "metadata": {},
   "source": [
    "## Tracking Loop\n",
    "\n",
    "Now we loop over the video frames, updating the tracker and drawing the bounding box. Press **ESC** to stop the tracking loop early."
   ]
  },
  {
   "cell_type": "code",
   "execution_count": 4,
   "metadata": {},
   "outputs": [
    {
     "name": "stdout",
     "output_type": "stream",
     "text": [
      "Tracker was not initialized. Please run the above cell to select ROI.\n"
     ]
    }
   ],
   "source": [
    "if cap.isOpened():\n",
    "    while True:\n",
    "        ret, frame = cap.read()\n",
    "        if not ret:\n",
    "            break\n",
    "        # Update tracker\n",
    "        success, roi = tracker.update(frame)\n",
    "        if success:\n",
    "            x, y, w, h = map(int, roi)\n",
    "            cv2.rectangle(frame, (x, y), (x+w, y+h), (0, 255, 0), 2)\n",
    "            cv2.putText(frame, \"Tracking\", (10, 30), cv2.FONT_HERSHEY_SIMPLEX, 1, (0,255,0), 2)\n",
    "        else:\n",
    "            cv2.putText(frame, \"Lost\", (10, 30), cv2.FONT_HERSHEY_SIMPLEX, 1, (0,0,255), 2)\n",
    "        \n",
    "        cv2.imshow('Tracking', frame)\n",
    "        if cv2.waitKey(30) & 0xFF == 27:\n",
    "            break\n",
    "    \n",
    "    cap.release()\n",
    "    cv2.destroyAllWindows()\n",
    "else:\n",
    "    print(\"Tracker was not initialized. Please run the above cell to select ROI.\")"
   ]
  },
  {
   "cell_type": "markdown",
   "metadata": {},
   "source": [
    "After running the loop, you should see the video with a bounding box following the object. If the tracker loses the object (for example, due to occlusion or fast movement), the label 'Lost' will appear. You can try different tracker algorithms (KCF, MIL, etc.) by replacing `TrackerCSRT_create()` with another OpenCV tracker.\n",
    "\n",
    "> **Note:** In a Jupyter notebook, the `cv2.imshow` window might not display. If you're using VSCode or running the notebook locally, it should pop up a window. Press ESC in the video window to exit the loop. If needed, run this as a standalone Python script for full functionality."
   ]
  }
 ],
 "metadata": {
  "kernelspec": {
   "display_name": "vision (3.12.4)",
   "language": "python",
   "name": "python3"
  },
  "language_info": {
   "codemirror_mode": {
    "name": "ipython",
    "version": 3
   },
   "file_extension": ".py",
   "mimetype": "text/x-python",
   "name": "python",
   "nbconvert_exporter": "python",
   "pygments_lexer": "ipython3",
   "version": "3.12.4"
  }
 },
 "nbformat": 4,
 "nbformat_minor": 4
}
